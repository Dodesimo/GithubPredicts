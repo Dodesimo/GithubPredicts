{
 "cells": [
  {
   "cell_type": "markdown",
   "metadata": {
    "collapsed": true,
    "pycharm": {
     "name": "#%% md\n"
    }
   },
   "source": [
    "# GitHub Predicts\n",
    "\n",
    "The point of this project is to determine the most-likely primary language of the next GitHub repository created."
   ]
  },
  {
   "cell_type": "code",
   "execution_count": 211,
   "outputs": [],
   "source": [
    "#Import packages\n",
    "import pandas as pd\n",
    "import seaborn as sb"
   ],
   "metadata": {
    "collapsed": false,
    "pycharm": {
     "name": "#%%\n"
    }
   }
  },
  {
   "cell_type": "code",
   "execution_count": 212,
   "outputs": [],
   "source": [
    "#Read CSV file.\n",
    "df = pd.read_csv(\"C:/Users/devam/Downloads/SportsData/repos.csv\")"
   ],
   "metadata": {
    "collapsed": false,
    "pycharm": {
     "name": "#%%\n"
    }
   }
  },
  {
   "cell_type": "code",
   "execution_count": 213,
   "outputs": [
    {
     "data": {
      "text/plain": "        language  num_repos\n272        Dylan        118\n172          SQL        640\n443        Astro          2\n298         Pony         77\n411      Omgrofl          8\n..           ...        ...\n222       Augeas        288\n173    PureBasic        638\n390  Classic ASP         15\n442       Wollok          2\n378          X10         18\n\n[453 rows x 2 columns]",
      "text/html": "<div>\n<style scoped>\n    .dataframe tbody tr th:only-of-type {\n        vertical-align: middle;\n    }\n\n    .dataframe tbody tr th {\n        vertical-align: top;\n    }\n\n    .dataframe thead th {\n        text-align: right;\n    }\n</style>\n<table border=\"1\" class=\"dataframe\">\n  <thead>\n    <tr style=\"text-align: right;\">\n      <th></th>\n      <th>language</th>\n      <th>num_repos</th>\n    </tr>\n  </thead>\n  <tbody>\n    <tr>\n      <th>272</th>\n      <td>Dylan</td>\n      <td>118</td>\n    </tr>\n    <tr>\n      <th>172</th>\n      <td>SQL</td>\n      <td>640</td>\n    </tr>\n    <tr>\n      <th>443</th>\n      <td>Astro</td>\n      <td>2</td>\n    </tr>\n    <tr>\n      <th>298</th>\n      <td>Pony</td>\n      <td>77</td>\n    </tr>\n    <tr>\n      <th>411</th>\n      <td>Omgrofl</td>\n      <td>8</td>\n    </tr>\n    <tr>\n      <th>...</th>\n      <td>...</td>\n      <td>...</td>\n    </tr>\n    <tr>\n      <th>222</th>\n      <td>Augeas</td>\n      <td>288</td>\n    </tr>\n    <tr>\n      <th>173</th>\n      <td>PureBasic</td>\n      <td>638</td>\n    </tr>\n    <tr>\n      <th>390</th>\n      <td>Classic ASP</td>\n      <td>15</td>\n    </tr>\n    <tr>\n      <th>442</th>\n      <td>Wollok</td>\n      <td>2</td>\n    </tr>\n    <tr>\n      <th>378</th>\n      <td>X10</td>\n      <td>18</td>\n    </tr>\n  </tbody>\n</table>\n<p>453 rows × 2 columns</p>\n</div>"
     },
     "execution_count": 213,
     "metadata": {},
     "output_type": "execute_result"
    }
   ],
   "source": [
    "#Preview CSV file.\n",
    "df.head()\n",
    "df.sample(frac=1)"
   ],
   "metadata": {
    "collapsed": false,
    "pycharm": {
     "name": "#%%\n"
    }
   }
  },
  {
   "cell_type": "code",
   "execution_count": 214,
   "outputs": [],
   "source": [
    "#Determine total number of repositories.\n",
    "totalRepositories = df[\"num_repos\"].sum()"
   ],
   "metadata": {
    "collapsed": false,
    "pycharm": {
     "name": "#%%\n"
    }
   }
  },
  {
   "cell_type": "code",
   "execution_count": 215,
   "outputs": [],
   "source": [
    "frequencyAsPercentage = []"
   ],
   "metadata": {
    "collapsed": false,
    "pycharm": {
     "name": "#%%\n"
    }
   }
  },
  {
   "cell_type": "code",
   "execution_count": 216,
   "outputs": [],
   "source": [
    "# Add percentage of each repository to a temporary list.\n",
    "y = 0\n",
    "for x in df[\"num_repos\"]:\n",
    "    frequencyAsPercentage.append(x/totalRepositories * 100)\n"
   ],
   "metadata": {
    "collapsed": false,
    "pycharm": {
     "name": "#%%\n"
    }
   }
  },
  {
   "cell_type": "code",
   "execution_count": 223,
   "outputs": [],
   "source": [
    "#Add frequency calculations to data frame.\n",
    "df[\"Frequency as a Percentage\"] = frequencyAsPercentage"
   ],
   "metadata": {
    "collapsed": false,
    "pycharm": {
     "name": "#%%\n"
    }
   }
  },
  {
   "cell_type": "code",
   "execution_count": 224,
   "outputs": [
    {
     "data": {
      "text/plain": "     language  num_repos  Frequency as a Percentage\n0  JavaScript    1100421                  14.088929\n1         CSS     813443                  10.414687\n2        HTML     779549                   9.980735\n3       Shell     638068                   8.169323\n4      Python     548870                   7.027302",
      "text/html": "<div>\n<style scoped>\n    .dataframe tbody tr th:only-of-type {\n        vertical-align: middle;\n    }\n\n    .dataframe tbody tr th {\n        vertical-align: top;\n    }\n\n    .dataframe thead th {\n        text-align: right;\n    }\n</style>\n<table border=\"1\" class=\"dataframe\">\n  <thead>\n    <tr style=\"text-align: right;\">\n      <th></th>\n      <th>language</th>\n      <th>num_repos</th>\n      <th>Frequency as a Percentage</th>\n    </tr>\n  </thead>\n  <tbody>\n    <tr>\n      <th>0</th>\n      <td>JavaScript</td>\n      <td>1100421</td>\n      <td>14.088929</td>\n    </tr>\n    <tr>\n      <th>1</th>\n      <td>CSS</td>\n      <td>813443</td>\n      <td>10.414687</td>\n    </tr>\n    <tr>\n      <th>2</th>\n      <td>HTML</td>\n      <td>779549</td>\n      <td>9.980735</td>\n    </tr>\n    <tr>\n      <th>3</th>\n      <td>Shell</td>\n      <td>638068</td>\n      <td>8.169323</td>\n    </tr>\n    <tr>\n      <th>4</th>\n      <td>Python</td>\n      <td>548870</td>\n      <td>7.027302</td>\n    </tr>\n  </tbody>\n</table>\n</div>"
     },
     "execution_count": 224,
     "metadata": {},
     "output_type": "execute_result"
    }
   ],
   "source": [
    "df.head()"
   ],
   "metadata": {
    "collapsed": false,
    "pycharm": {
     "name": "#%%\n"
    }
   }
  },
  {
   "cell_type": "code",
   "execution_count": 225,
   "outputs": [],
   "source": [
    "#Pick top five frequent languages.\n",
    "df2 = df[:5]"
   ],
   "metadata": {
    "collapsed": false,
    "pycharm": {
     "name": "#%%\n"
    }
   }
  },
  {
   "cell_type": "code",
   "execution_count": 226,
   "outputs": [
    {
     "data": {
      "text/plain": "     language  num_repos  Frequency as a Percentage\n0  JavaScript    1100421                  14.088929\n1         CSS     813443                  10.414687\n2        HTML     779549                   9.980735\n3       Shell     638068                   8.169323\n4      Python     548870                   7.027302",
      "text/html": "<div>\n<style scoped>\n    .dataframe tbody tr th:only-of-type {\n        vertical-align: middle;\n    }\n\n    .dataframe tbody tr th {\n        vertical-align: top;\n    }\n\n    .dataframe thead th {\n        text-align: right;\n    }\n</style>\n<table border=\"1\" class=\"dataframe\">\n  <thead>\n    <tr style=\"text-align: right;\">\n      <th></th>\n      <th>language</th>\n      <th>num_repos</th>\n      <th>Frequency as a Percentage</th>\n    </tr>\n  </thead>\n  <tbody>\n    <tr>\n      <th>0</th>\n      <td>JavaScript</td>\n      <td>1100421</td>\n      <td>14.088929</td>\n    </tr>\n    <tr>\n      <th>1</th>\n      <td>CSS</td>\n      <td>813443</td>\n      <td>10.414687</td>\n    </tr>\n    <tr>\n      <th>2</th>\n      <td>HTML</td>\n      <td>779549</td>\n      <td>9.980735</td>\n    </tr>\n    <tr>\n      <th>3</th>\n      <td>Shell</td>\n      <td>638068</td>\n      <td>8.169323</td>\n    </tr>\n    <tr>\n      <th>4</th>\n      <td>Python</td>\n      <td>548870</td>\n      <td>7.027302</td>\n    </tr>\n  </tbody>\n</table>\n</div>"
     },
     "execution_count": 226,
     "metadata": {},
     "output_type": "execute_result"
    }
   ],
   "source": [
    "df2"
   ],
   "metadata": {
    "collapsed": false,
    "pycharm": {
     "name": "#%%\n"
    }
   }
  },
  {
   "cell_type": "code",
   "execution_count": 227,
   "outputs": [
    {
     "data": {
      "text/plain": "<seaborn.axisgrid.FacetGrid at 0x1c5aaf419d0>"
     },
     "execution_count": 227,
     "metadata": {},
     "output_type": "execute_result"
    },
    {
     "data": {
      "text/plain": "<Figure size 360x360 with 1 Axes>",
      "image/png": "[encoded data removed]"
     },
     "metadata": {},
     "output_type": "display_data"
    }
   ],
   "source": [
    "sb.relplot(data=df2, x = df2['language'], y = df2['Frequency as a Percentage'])"
   ],
   "metadata": {
    "collapsed": false,
    "pycharm": {
     "name": "#%%\n"
    }
   }
  },
  {
   "cell_type": "markdown",
   "source": [
    "# Conclusion\n",
    "Therefore, it is most likely that the next created GitHub repository has a primary language of JavaScript."
   ],
   "metadata": {
    "collapsed": false,
    "pycharm": {
     "name": "#%% md\n"
    }
   }
  }
 ],
 "metadata": {
  "kernelspec": {
   "display_name": "Python 3",
   "language": "python",
   "name": "python3"
  },
  "language_info": {
   "codemirror_mode": {
    "name": "ipython",
    "version": 2
   },
   "file_extension": ".py",
   "mimetype": "text/x-python",
   "name": "python",
   "nbconvert_exporter": "python",
   "pygments_lexer": "ipython2",
   "version": "2.7.6"
  }
 },
 "nbformat": 4,
 "nbformat_minor": 0
}